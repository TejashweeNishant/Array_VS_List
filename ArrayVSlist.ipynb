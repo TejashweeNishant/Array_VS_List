{
 "cells": [
  {
   "cell_type": "code",
   "execution_count": 10,
   "id": "e5b914ac-edc1-4590-a178-0af42398a881",
   "metadata": {},
   "outputs": [],
   "source": [
    "import numpy  as np"
   ]
  },
  {
   "cell_type": "markdown",
   "id": "f3cf95be-79e6-4453-9925-7b85266555e1",
   "metadata": {},
   "source": [
    "1. Array  VS  List"
   ]
  },
  {
   "cell_type": "code",
   "execution_count": 4,
   "id": "b211d4da-3b54-4d2c-b365-b6347ec45dc5",
   "metadata": {},
   "outputs": [
    {
     "name": "stdout",
     "output_type": "stream",
     "text": [
      "[1, 2, 3]\n",
      "<class 'list'>\n",
      "------\n",
      "[1 3 2]\n",
      "<class 'numpy.ndarray'>\n",
      "--------\n",
      "[ True False False]\n",
      "False\n",
      "True\n"
     ]
    }
   ],
   "source": [
    "lst=[1,2,3]\n",
    "print(lst)\n",
    "print(type(lst))\n",
    "print(\"------\")\n",
    "arr= np.array([1,3,2])\n",
    "print(arr)\n",
    "print(type(arr))\n",
    "print(\"--------\")\n",
    "\n",
    "print(arr == lst)\n",
    "print(arr.tolist() == lst)\n",
    "print(sorted(arr) == sorted(lst))\n",
    "\n"
   ]
  },
  {
   "cell_type": "markdown",
   "id": "725ae660-3e19-46a2-b098-56707c665a0c",
   "metadata": {},
   "source": [
    "2. Adding elements in an Arrays VS List"
   ]
  },
  {
   "cell_type": "code",
   "execution_count": 15,
   "id": "cdda21e3-0a2d-44aa-9bb8-46f07571ba83",
   "metadata": {},
   "outputs": [
    {
     "name": "stdout",
     "output_type": "stream",
     "text": [
      "[1, 2, 3]\n",
      "[1, 2, 3, 4]\n",
      "------------\n",
      "[1 3 2]\n",
      "[1 3 2 4]\n"
     ]
    }
   ],
   "source": [
    "lst=[1,2,3]\n",
    "arr= np.array([1,3,2])\n",
    "print(lst)\n",
    "lst.append(4)\n",
    "print(lst)\n",
    "print('------------')\n",
    "\n",
    "print(arr)\n",
    "arr = np.append(arr,4)\n",
    "print(arr)\n"
   ]
  },
  {
   "cell_type": "markdown",
   "id": "f5fd423c-4a08-47f1-aeb8-26d684ad8616",
   "metadata": {},
   "source": [
    "3. Removing elements in an Arrays VS List"
   ]
  },
  {
   "cell_type": "code",
   "execution_count": 20,
   "id": "61f33e50-2de2-4786-bcfb-bddae0254643",
   "metadata": {},
   "outputs": [
    {
     "name": "stdout",
     "output_type": "stream",
     "text": [
      "[1, 2, 3]\n",
      "[1, 2]\n",
      "-----------\n",
      "[1 3 2]\n",
      "[1 3]\n"
     ]
    }
   ],
   "source": [
    "lst=[1,2,3]\n",
    "arr= np.array([1,3,2])\n",
    "print(lst)\n",
    "del lst[-1]\n",
    "print(lst)\n",
    "print(\"-----------\")\n",
    "print(arr)\n",
    "arr=np.delete(arr,-1)\n",
    "print(arr)"
   ]
  },
  {
   "cell_type": "markdown",
   "id": "b0dfc4d1-a039-4226-a5b0-46153d82f3b4",
   "metadata": {},
   "source": [
    "\n",
    "\n",
    "4.Updating elements in an Arrays VS List"
   ]
  },
  {
   "cell_type": "code",
   "execution_count": 24,
   "id": "d46817c2-2fad-4fe0-9d96-213c1ef598bc",
   "metadata": {},
   "outputs": [
    {
     "name": "stdout",
     "output_type": "stream",
     "text": [
      "[1, 2, 3]\n",
      "[1, 4, 5]\n",
      "---------\n",
      "[1 3 2]\n",
      "[1 7 9]\n"
     ]
    }
   ],
   "source": [
    "lst=[1,2,3]\n",
    "print(lst)\n",
    "lst[-1]=5\n",
    "lst[-2]=4\n",
    "print(lst)\n",
    "print(\"---------\")\n",
    "arr= np.array([1,3,2])\n",
    "print(arr)\n",
    "arr[-1]=9\n",
    "arr[-2]=7\n",
    "print(arr)\n",
    "\n"
   ]
  },
  {
   "cell_type": "markdown",
   "id": "fda9158e-96a8-46f4-8676-836e8fde3690",
   "metadata": {},
   "source": [
    "5. Array VS List Comparison"
   ]
  },
  {
   "cell_type": "code",
   "execution_count": 27,
   "id": "6c07e2dc-a15a-4c5d-a9b6-06134a5234b4",
   "metadata": {},
   "outputs": [
    {
     "name": "stdout",
     "output_type": "stream",
     "text": [
      "List: 5.70456337928772\n",
      "Array: 0.6158919334411621\n"
     ]
    }
   ],
   "source": [
    "import time\n",
    "#Creating the data\n",
    "my_list = list(range(10000000))\n",
    "my_array = np.arange(10000000)\n",
    "\n",
    "#search time for list\n",
    "start_time = time.time()\n",
    "for _ in range(100):\n",
    "    if 5000000 in my_list:\n",
    "        pass\n",
    "end_time = time.time()\n",
    "print(\"List:\", end_time - start_time)\n",
    "\n",
    "#search time for array\n",
    "start_time = time.time()\n",
    "for _ in range(100):\n",
    "    if 5000000 in my_array:\n",
    "        pass\n",
    "end_time = time.time()\n",
    "print(\"Array:\", end_time - start_time)"
   ]
  },
  {
   "cell_type": "code",
   "execution_count": null,
   "id": "aa081021-c07b-4582-869b-d7e2fd27d54d",
   "metadata": {},
   "outputs": [],
   "source": []
  }
 ],
 "metadata": {
  "kernelspec": {
   "display_name": "Python 3 (ipykernel)",
   "language": "python",
   "name": "python3"
  },
  "language_info": {
   "codemirror_mode": {
    "name": "ipython",
    "version": 3
   },
   "file_extension": ".py",
   "mimetype": "text/x-python",
   "name": "python",
   "nbconvert_exporter": "python",
   "pygments_lexer": "ipython3",
   "version": "3.12.7"
  }
 },
 "nbformat": 4,
 "nbformat_minor": 5
}
